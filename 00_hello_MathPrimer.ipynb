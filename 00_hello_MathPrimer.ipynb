{
  "nbformat": 4,
  "nbformat_minor": 0,
  "metadata": {
    "colab": {
      "name": "00_hello_MathPrimer.txt",
      "provenance": []
    },
    "kernelspec": {
      "display_name": "Python 3",
      "language": "python",
      "name": "python3"
    },
    "language_info": {
      "codemirror_mode": {
        "name": "ipython",
        "version": 3
      },
      "file_extension": ".py",
      "mimetype": "text/x-python",
      "name": "python",
      "nbconvert_exporter": "python",
      "pygments_lexer": "ipython3",
      "version": "3.6.9"
    }
  },
  "cells": [
    {
      "cell_type": "markdown",
      "metadata": {
        "id": "FnXvgGAh6lTs"
      },
      "source": [
        "# Math Primer for AI"
      ]
    },
    {
      "cell_type": "markdown",
      "metadata": {
        "id": "mbDn0bD26lTt"
      },
      "source": [
        "본 페이지는 한림대학교 딥러닝이해및활용(710231) 수업에서 학생들의 Python 학습을 위해 만든 페이지입니다.\n",
        "2020/09/01"
      ]
    },
    {
      "cell_type": "code",
      "metadata": {
        "id": "ioVCgKlL6lTt"
      },
      "source": [
        "import numpy as np"
      ],
      "execution_count": null,
      "outputs": []
    },
    {
      "cell_type": "markdown",
      "metadata": {
        "id": "h32QqKjx6lTx"
      },
      "source": [
        "## Matrix multiplication"
      ]
    },
    {
      "cell_type": "code",
      "metadata": {
        "id": "hvRMQJsq6lTy",
        "outputId": "9101caff-f3a3-4ce3-8fd1-3cd3065e1008",
        "colab": {
          "base_uri": "https://localhost:8080/",
          "height": 52
        }
      },
      "source": [
        "a = np.array([[1, -3, 2], [4, 0, -5]])\n",
        "print(a)"
      ],
      "execution_count": null,
      "outputs": [
        {
          "output_type": "stream",
          "text": [
            "[[ 1 -3  2]\n",
            " [ 4  0 -5]]\n"
          ],
          "name": "stdout"
        }
      ]
    },
    {
      "cell_type": "code",
      "metadata": {
        "id": "iovYwgJFcCrI",
        "outputId": "74f58219-97f8-48bb-ed01-16a918bd4251"
      },
      "source": [
        "a.shape"
      ],
      "execution_count": null,
      "outputs": [
        {
          "output_type": "execute_result",
          "data": {
            "text/plain": [
              "(2, 3)"
            ]
          },
          "metadata": {
            "tags": []
          },
          "execution_count": 3
        }
      ]
    },
    {
      "cell_type": "code",
      "metadata": {
        "id": "hrvFwU576lT1",
        "outputId": "89d4738f-e820-4bb1-b7e9-ac4c8f947261",
        "colab": {
          "base_uri": "https://localhost:8080/",
          "height": 70
        }
      },
      "source": [
        "b = np.array([[3], [1], [2]])\n",
        "print(b)"
      ],
      "execution_count": null,
      "outputs": [
        {
          "output_type": "stream",
          "text": [
            "[[3]\n",
            " [1]\n",
            " [2]]\n"
          ],
          "name": "stdout"
        }
      ]
    },
    {
      "cell_type": "code",
      "metadata": {
        "id": "XzEOA3qmcCrZ",
        "outputId": "c459b813-1c68-4984-c239-e4350952a86d"
      },
      "source": [
        "b.shape"
      ],
      "execution_count": null,
      "outputs": [
        {
          "output_type": "execute_result",
          "data": {
            "text/plain": [
              "(3, 1)"
            ]
          },
          "metadata": {
            "tags": []
          },
          "execution_count": 5
        }
      ]
    },
    {
      "cell_type": "code",
      "metadata": {
        "id": "cExR0cVL6lT3",
        "outputId": "a6b5de34-3834-4a30-c4d8-40d71502f8b3",
        "colab": {
          "base_uri": "https://localhost:8080/",
          "height": 52
        }
      },
      "source": [
        "c = np.matmul(a, b) #matrix multiplication\n",
        "print(c)\n",
        "#print(c.shape)"
      ],
      "execution_count": null,
      "outputs": [
        {
          "output_type": "stream",
          "text": [
            "[[4]\n",
            " [2]]\n"
          ],
          "name": "stdout"
        }
      ]
    },
    {
      "cell_type": "code",
      "metadata": {
        "id": "sb6kqX2B6lT5",
        "outputId": "08919224-0e4c-4117-d3ce-071b50f1a8aa",
        "colab": {
          "base_uri": "https://localhost:8080/",
          "height": 52
        }
      },
      "source": [
        "d = np.dot(a, b)\n",
        "print(d)"
      ],
      "execution_count": null,
      "outputs": [
        {
          "output_type": "stream",
          "text": [
            "[[4]\n",
            " [2]]\n"
          ],
          "name": "stdout"
        }
      ]
    },
    {
      "cell_type": "markdown",
      "metadata": {
        "id": "XNQgOGTN7BK7"
      },
      "source": [
        "위 둘의 결과 (matmul, dot) 가 어떤가요? 확인해보세요"
      ]
    },
    {
      "cell_type": "markdown",
      "metadata": {
        "id": "4ivT-1QIcCrl"
      },
      "source": [
        "아래처럼 shape을 출력해보는 습관을 가지세요"
      ]
    },
    {
      "cell_type": "code",
      "metadata": {
        "id": "8h24LLiB6y0s",
        "outputId": "cff9a5fb-5bdf-4431-9d1a-8aa926a36a08",
        "colab": {
          "base_uri": "https://localhost:8080/",
          "height": 34
        }
      },
      "source": [
        "d.shape"
      ],
      "execution_count": null,
      "outputs": [
        {
          "output_type": "execute_result",
          "data": {
            "text/plain": [
              "(2, 1)"
            ]
          },
          "metadata": {
            "tags": []
          },
          "execution_count": 7
        }
      ]
    }
  ]
}